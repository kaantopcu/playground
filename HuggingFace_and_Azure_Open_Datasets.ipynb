{
  "nbformat": 4,
  "nbformat_minor": 0,
  "metadata": {
    "colab": {
      "provenance": [],
      "authorship_tag": "ABX9TyMKiF1QIx6bYPhxAiCbqwMu",
      "include_colab_link": true
    },
    "kernelspec": {
      "name": "python3",
      "display_name": "Python 3"
    },
    "language_info": {
      "name": "python"
    }
  },
  "cells": [
    {
      "cell_type": "markdown",
      "metadata": {
        "id": "view-in-github",
        "colab_type": "text"
      },
      "source": [
        "<a href=\"https://colab.research.google.com/github/kaantopcu/playground/blob/main/HuggingFace_and_Azure_Open_Datasets.ipynb\" target=\"_parent\"><img src=\"https://colab.research.google.com/assets/colab-badge.svg\" alt=\"Open In Colab\"/></a>"
      ]
    },
    {
      "cell_type": "markdown",
      "source": [
        "    Load a dataset from Hugging Face and analyze it\n",
        "\n",
        "    Load a dataset from Azure Open Datasets\n",
        "\n",
        "    Build a classifier with Hugging Face Transformers"
      ],
      "metadata": {
        "id": "Bn_vaLCa6SVL"
      }
    },
    {
      "cell_type": "code",
      "source": [],
      "metadata": {
        "id": "4rKOrR8s56la"
      },
      "execution_count": null,
      "outputs": []
    },
    {
      "cell_type": "code",
      "source": [
        "import azureml.opendatasets as opendatasets\n",
        "print(\"azureml-opendatasets installed successfully\")"
      ],
      "metadata": {
        "colab": {
          "base_uri": "https://localhost:8080/"
        },
        "id": "OscPzzTG5mzs",
        "outputId": "433894bd-b096-49eb-ab93-dfade2efb6da"
      },
      "execution_count": null,
      "outputs": [
        {
          "output_type": "stream",
          "name": "stdout",
          "text": [
            "azureml-opendatasets installed successfully\n"
          ]
        }
      ]
    },
    {
      "cell_type": "code",
      "execution_count": null,
      "metadata": {
        "id": "DHCHwVgzKUKy"
      },
      "outputs": [],
      "source": [
        "from azureml.opendatasets import PublicHolidays"
      ]
    },
    {
      "cell_type": "code",
      "source": [
        "!pip install azureml-opendatasets"
      ],
      "metadata": {
        "colab": {
          "base_uri": "https://localhost:8080/",
          "height": 1000
        },
        "id": "8NHfzsBl5Qn7",
        "outputId": "ddf45514-a2a2-4c54-9533-8819d16b2455"
      },
      "execution_count": null,
      "outputs": [
        {
          "output_type": "stream",
          "name": "stdout",
          "text": [
            "Collecting azureml-opendatasets\n",
            "  Downloading azureml_opendatasets-1.56.0-py3-none-any.whl (1.3 MB)\n",
            "\u001b[2K     \u001b[90m━━━━━━━━━━━━━━━━━━━━━━━━━━━━━━━━━━━━━━━━\u001b[0m \u001b[32m1.3/1.3 MB\u001b[0m \u001b[31m8.5 MB/s\u001b[0m eta \u001b[36m0:00:00\u001b[0m\n",
            "\u001b[?25hCollecting azureml-telemetry~=1.56.0 (from azureml-opendatasets)\n",
            "  Downloading azureml_telemetry-1.56.0-py3-none-any.whl (30 kB)\n",
            "Collecting azureml-core~=1.56.0 (from azureml-opendatasets)\n",
            "  Downloading azureml_core-1.56.0-py3-none-any.whl (3.3 MB)\n",
            "\u001b[2K     \u001b[90m━━━━━━━━━━━━━━━━━━━━━━━━━━━━━━━━━━━━━━━━\u001b[0m \u001b[32m3.3/3.3 MB\u001b[0m \u001b[31m20.9 MB/s\u001b[0m eta \u001b[36m0:00:00\u001b[0m\n",
            "\u001b[?25hCollecting azureml-dataset-runtime[fuse,pandas]~=1.56.0 (from azureml-opendatasets)\n",
            "  Downloading azureml_dataset_runtime-1.56.0-py3-none-any.whl (2.3 kB)\n",
            "Requirement already satisfied: numpy<=2.0.0,>=1.16.0 in /usr/local/lib/python3.10/dist-packages (from azureml-opendatasets) (1.25.2)\n",
            "Collecting pandas<=2.0.0,>=0.21.0 (from azureml-opendatasets)\n",
            "  Downloading pandas-2.0.0-cp310-cp310-manylinux_2_17_x86_64.manylinux2014_x86_64.whl (12.3 MB)\n",
            "\u001b[2K     \u001b[90m━━━━━━━━━━━━━━━━━━━━━━━━━━━━━━━━━━━━━━━━\u001b[0m \u001b[32m12.3/12.3 MB\u001b[0m \u001b[31m47.4 MB/s\u001b[0m eta \u001b[36m0:00:00\u001b[0m\n",
            "\u001b[?25hRequirement already satisfied: scipy<=2.0.0,>=1.0.0 in /usr/local/lib/python3.10/dist-packages (from azureml-opendatasets) (1.11.4)\n",
            "Requirement already satisfied: pyarrow>=0.16.0 in /usr/local/lib/python3.10/dist-packages (from azureml-opendatasets) (14.0.2)\n",
            "Collecting pyspark (from azureml-opendatasets)\n",
            "  Downloading pyspark-3.5.1.tar.gz (317.0 MB)\n",
            "\u001b[2K     \u001b[90m━━━━━━━━━━━━━━━━━━━━━━━━━━━━━━━━━━━━━━━━\u001b[0m \u001b[32m317.0/317.0 MB\u001b[0m \u001b[31m2.4 MB/s\u001b[0m eta \u001b[36m0:00:00\u001b[0m\n",
            "\u001b[?25h  Preparing metadata (setup.py) ... \u001b[?25l\u001b[?25hdone\n",
            "Requirement already satisfied: pytz in /usr/local/lib/python3.10/dist-packages (from azureml-core~=1.56.0->azureml-opendatasets) (2023.4)\n",
            "Collecting backports.tempfile (from azureml-core~=1.56.0->azureml-opendatasets)\n",
            "  Downloading backports.tempfile-1.0-py2.py3-none-any.whl (4.4 kB)\n",
            "Collecting pathspec<1.0.0 (from azureml-core~=1.56.0->azureml-opendatasets)\n",
            "  Downloading pathspec-0.12.1-py3-none-any.whl (31 kB)\n",
            "Requirement already satisfied: requests[socks]<3.0.0,>=2.19.1 in /usr/local/lib/python3.10/dist-packages (from azureml-core~=1.56.0->azureml-opendatasets) (2.31.0)\n",
            "Collecting msal<2.0.0,>=1.15.0 (from azureml-core~=1.56.0->azureml-opendatasets)\n",
            "  Downloading msal-1.28.0-py3-none-any.whl (102 kB)\n",
            "\u001b[2K     \u001b[90m━━━━━━━━━━━━━━━━━━━━━━━━━━━━━━━━━━━━━━━━\u001b[0m \u001b[32m102.2/102.2 kB\u001b[0m \u001b[31m14.0 MB/s\u001b[0m eta \u001b[36m0:00:00\u001b[0m\n",
            "\u001b[?25hCollecting msal-extensions<=2.0.0,>=0.3.0 (from azureml-core~=1.56.0->azureml-opendatasets)\n",
            "  Downloading msal_extensions-1.1.0-py3-none-any.whl (19 kB)\n",
            "Collecting knack<0.12.0 (from azureml-core~=1.56.0->azureml-opendatasets)\n",
            "  Downloading knack-0.11.0-py3-none-any.whl (60 kB)\n",
            "\u001b[2K     \u001b[90m━━━━━━━━━━━━━━━━━━━━━━━━━━━━━━━━━━━━━━━━\u001b[0m \u001b[32m60.8/60.8 kB\u001b[0m \u001b[31m9.9 MB/s\u001b[0m eta \u001b[36m0:00:00\u001b[0m\n",
            "\u001b[?25hCollecting azure-core<2.0.0 (from azureml-core~=1.56.0->azureml-opendatasets)\n",
            "  Downloading azure_core-1.30.1-py3-none-any.whl (193 kB)\n",
            "\u001b[2K     \u001b[90m━━━━━━━━━━━━━━━━━━━━━━━━━━━━━━━━━━━━━━━━\u001b[0m \u001b[32m193.4/193.4 kB\u001b[0m \u001b[31m29.3 MB/s\u001b[0m eta \u001b[36m0:00:00\u001b[0m\n",
            "\u001b[?25hCollecting pkginfo (from azureml-core~=1.56.0->azureml-opendatasets)\n",
            "  Downloading pkginfo-1.10.0-py3-none-any.whl (30 kB)\n",
            "Collecting argcomplete<4 (from azureml-core~=1.56.0->azureml-opendatasets)\n",
            "  Downloading argcomplete-3.3.0-py3-none-any.whl (42 kB)\n",
            "\u001b[2K     \u001b[90m━━━━━━━━━━━━━━━━━━━━━━━━━━━━━━━━━━━━━━━━\u001b[0m \u001b[32m42.6/42.6 kB\u001b[0m \u001b[31m6.5 MB/s\u001b[0m eta \u001b[36m0:00:00\u001b[0m\n",
            "\u001b[?25hCollecting humanfriendly<11.0,>=4.7 (from azureml-core~=1.56.0->azureml-opendatasets)\n",
            "  Downloading humanfriendly-10.0-py2.py3-none-any.whl (86 kB)\n",
            "\u001b[2K     \u001b[90m━━━━━━━━━━━━━━━━━━━━━━━━━━━━━━━━━━━━━━━━\u001b[0m \u001b[32m86.8/86.8 kB\u001b[0m \u001b[31m14.7 MB/s\u001b[0m eta \u001b[36m0:00:00\u001b[0m\n",
            "\u001b[?25hCollecting paramiko<4.0.0,>=2.0.8 (from azureml-core~=1.56.0->azureml-opendatasets)\n",
            "  Downloading paramiko-3.4.0-py3-none-any.whl (225 kB)\n",
            "\u001b[2K     \u001b[90m━━━━━━━━━━━━━━━━━━━━━━━━━━━━━━━━━━━━━━━━\u001b[0m \u001b[32m225.9/225.9 kB\u001b[0m \u001b[31m30.2 MB/s\u001b[0m eta \u001b[36m0:00:00\u001b[0m\n",
            "\u001b[?25hCollecting azure-mgmt-resource<=24.0.0,>=15.0.0 (from azureml-core~=1.56.0->azureml-opendatasets)\n",
            "  Downloading azure_mgmt_resource-23.1.1-py3-none-any.whl (2.6 MB)\n",
            "\u001b[2K     \u001b[90m━━━━━━━━━━━━━━━━━━━━━━━━━━━━━━━━━━━━━━━━\u001b[0m \u001b[32m2.6/2.6 MB\u001b[0m \u001b[31m81.8 MB/s\u001b[0m eta \u001b[36m0:00:00\u001b[0m\n",
            "\u001b[?25hCollecting azure-mgmt-containerregistry<11,>=8.2.0 (from azureml-core~=1.56.0->azureml-opendatasets)\n",
            "  Downloading azure_mgmt_containerregistry-10.3.0-py3-none-any.whl (2.3 MB)\n",
            "\u001b[2K     \u001b[90m━━━━━━━━━━━━━━━━━━━━━━━━━━━━━━━━━━━━━━━━\u001b[0m \u001b[32m2.3/2.3 MB\u001b[0m \u001b[31m95.1 MB/s\u001b[0m eta \u001b[36m0:00:00\u001b[0m\n",
            "\u001b[?25hCollecting azure-mgmt-storage<=22.0.0,>=16.0.0 (from azureml-core~=1.56.0->azureml-opendatasets)\n",
            "  Downloading azure_mgmt_storage-21.1.0-py3-none-any.whl (3.0 MB)\n",
            "\u001b[2K     \u001b[90m━━━━━━━━━━━━━━━━━━━━━━━━━━━━━━━━━━━━━━━━\u001b[0m \u001b[32m3.0/3.0 MB\u001b[0m \u001b[31m91.9 MB/s\u001b[0m eta \u001b[36m0:00:00\u001b[0m\n",
            "\u001b[?25hCollecting azure-mgmt-keyvault<11.0.0,>=0.40.0 (from azureml-core~=1.56.0->azureml-opendatasets)\n",
            "  Downloading azure_mgmt_keyvault-10.3.0-py3-none-any.whl (933 kB)\n",
            "\u001b[2K     \u001b[90m━━━━━━━━━━━━━━━━━━━━━━━━━━━━━━━━━━━━━━━━\u001b[0m \u001b[32m933.0/933.0 kB\u001b[0m \u001b[31m69.9 MB/s\u001b[0m eta \u001b[36m0:00:00\u001b[0m\n",
            "\u001b[?25hCollecting azure-mgmt-authorization<5,>=0.40.0 (from azureml-core~=1.56.0->azureml-opendatasets)\n",
            "  Downloading azure_mgmt_authorization-4.0.0-py3-none-any.whl (1.1 MB)\n",
            "\u001b[2K     \u001b[90m━━━━━━━━━━━━━━━━━━━━━━━━━━━━━━━━━━━━━━━━\u001b[0m \u001b[32m1.1/1.1 MB\u001b[0m \u001b[31m71.6 MB/s\u001b[0m eta \u001b[36m0:00:00\u001b[0m\n",
            "\u001b[?25hCollecting azure-mgmt-network<=26.0.0 (from azureml-core~=1.56.0->azureml-opendatasets)\n",
            "  Downloading azure_mgmt_network-25.3.0-py3-none-any.whl (660 kB)\n",
            "\u001b[2K     \u001b[90m━━━━━━━━━━━━━━━━━━━━━━━━━━━━━━━━━━━━━━━━\u001b[0m \u001b[32m660.9/660.9 kB\u001b[0m \u001b[31m52.8 MB/s\u001b[0m eta \u001b[36m0:00:00\u001b[0m\n",
            "\u001b[?25hCollecting azure-graphrbac<1.0.0,>=0.40.0 (from azureml-core~=1.56.0->azureml-opendatasets)\n",
            "  Downloading azure_graphrbac-0.61.1-py2.py3-none-any.whl (141 kB)\n",
            "\u001b[2K     \u001b[90m━━━━━━━━━━━━━━━━━━━━━━━━━━━━━━━━━━━━━━━━\u001b[0m \u001b[32m141.4/141.4 kB\u001b[0m \u001b[31m22.8 MB/s\u001b[0m eta \u001b[36m0:00:00\u001b[0m\n",
            "\u001b[?25hCollecting azure-common<2.0.0,>=1.1.12 (from azureml-core~=1.56.0->azureml-opendatasets)\n",
            "  Downloading azure_common-1.1.28-py2.py3-none-any.whl (14 kB)\n",
            "Collecting msrest<=0.7.1,>=0.5.1 (from azureml-core~=1.56.0->azureml-opendatasets)\n",
            "  Downloading msrest-0.7.1-py3-none-any.whl (85 kB)\n",
            "\u001b[2K     \u001b[90m━━━━━━━━━━━━━━━━━━━━━━━━━━━━━━━━━━━━━━━━\u001b[0m \u001b[32m85.4/85.4 kB\u001b[0m \u001b[31m14.8 MB/s\u001b[0m eta \u001b[36m0:00:00\u001b[0m\n",
            "\u001b[?25hCollecting msrestazure<=0.6.4,>=0.4.33 (from azureml-core~=1.56.0->azureml-opendatasets)\n",
            "  Downloading msrestazure-0.6.4-py2.py3-none-any.whl (40 kB)\n",
            "\u001b[2K     \u001b[90m━━━━━━━━━━━━━━━━━━━━━━━━━━━━━━━━━━━━━━━━\u001b[0m \u001b[32m40.5/40.5 kB\u001b[0m \u001b[31m5.9 MB/s\u001b[0m eta \u001b[36m0:00:00\u001b[0m\n",
            "\u001b[?25hRequirement already satisfied: urllib3<3.0.0,>1.26.17 in /usr/local/lib/python3.10/dist-packages (from azureml-core~=1.56.0->azureml-opendatasets) (2.0.7)\n",
            "Requirement already satisfied: packaging<=25.0,>=20.0 in /usr/local/lib/python3.10/dist-packages (from azureml-core~=1.56.0->azureml-opendatasets) (24.0)\n",
            "Requirement already satisfied: python-dateutil<3.0.0,>=2.7.3 in /usr/local/lib/python3.10/dist-packages (from azureml-core~=1.56.0->azureml-opendatasets) (2.8.2)\n",
            "Collecting ndg-httpsclient<=0.5.1 (from azureml-core~=1.56.0->azureml-opendatasets)\n",
            "  Downloading ndg_httpsclient-0.5.1-py3-none-any.whl (34 kB)\n",
            "Requirement already satisfied: SecretStorage<4.0.0 in /usr/lib/python3/dist-packages (from azureml-core~=1.56.0->azureml-opendatasets) (3.3.1)\n",
            "Requirement already satisfied: jsonpickle<4.0.0 in /usr/local/lib/python3.10/dist-packages (from azureml-core~=1.56.0->azureml-opendatasets) (3.0.4)\n",
            "Requirement already satisfied: contextlib2<22.0.0 in /usr/local/lib/python3.10/dist-packages (from azureml-core~=1.56.0->azureml-opendatasets) (21.6.0)\n",
            "Collecting docker<8.0.0 (from azureml-core~=1.56.0->azureml-opendatasets)\n",
            "  Downloading docker-7.0.0-py3-none-any.whl (147 kB)\n",
            "\u001b[2K     \u001b[90m━━━━━━━━━━━━━━━━━━━━━━━━━━━━━━━━━━━━━━━━\u001b[0m \u001b[32m147.6/147.6 kB\u001b[0m \u001b[31m20.9 MB/s\u001b[0m eta \u001b[36m0:00:00\u001b[0m\n",
            "\u001b[?25hRequirement already satisfied: PyJWT<3.0.0 in /usr/lib/python3/dist-packages (from azureml-core~=1.56.0->azureml-opendatasets) (2.3.0)\n",
            "Collecting adal<=1.2.7,>=1.2.0 (from azureml-core~=1.56.0->azureml-opendatasets)\n",
            "  Downloading adal-1.2.7-py2.py3-none-any.whl (55 kB)\n",
            "\u001b[2K     \u001b[90m━━━━━━━━━━━━━━━━━━━━━━━━━━━━━━━━━━━━━━━━\u001b[0m \u001b[32m55.5/55.5 kB\u001b[0m \u001b[31m9.8 MB/s\u001b[0m eta \u001b[36m0:00:00\u001b[0m\n",
            "\u001b[?25hRequirement already satisfied: pyopenssl<25.0.0 in /usr/local/lib/python3.10/dist-packages (from azureml-core~=1.56.0->azureml-opendatasets) (24.1.0)\n",
            "Collecting jmespath<2.0.0 (from azureml-core~=1.56.0->azureml-opendatasets)\n",
            "  Downloading jmespath-1.0.1-py3-none-any.whl (20 kB)\n",
            "Collecting azureml-dataprep<5.2.0a,>=5.1.0a (from azureml-dataset-runtime[fuse,pandas]~=1.56.0->azureml-opendatasets)\n",
            "  Downloading azureml_dataprep-5.1.6-py3-none-any.whl (252 kB)\n",
            "\u001b[2K     \u001b[90m━━━━━━━━━━━━━━━━━━━━━━━━━━━━━━━━━━━━━━━━\u001b[0m \u001b[32m252.4/252.4 kB\u001b[0m \u001b[31m34.8 MB/s\u001b[0m eta \u001b[36m0:00:00\u001b[0m\n",
            "\u001b[?25hCollecting numpy<=2.0.0,>=1.16.0 (from azureml-opendatasets)\n",
            "  Downloading numpy-1.23.5-cp310-cp310-manylinux_2_17_x86_64.manylinux2014_x86_64.whl (17.1 MB)\n",
            "\u001b[2K     \u001b[90m━━━━━━━━━━━━━━━━━━━━━━━━━━━━━━━━━━━━━━━━\u001b[0m \u001b[32m17.1/17.1 MB\u001b[0m \u001b[31m75.2 MB/s\u001b[0m eta \u001b[36m0:00:00\u001b[0m\n",
            "\u001b[?25hCollecting pandas<=2.0.0,>=0.21.0 (from azureml-opendatasets)\n",
            "  Downloading pandas-1.5.3-cp310-cp310-manylinux_2_17_x86_64.manylinux2014_x86_64.whl (12.1 MB)\n",
            "\u001b[2K     \u001b[90m━━━━━━━━━━━━━━━━━━━━━━━━━━━━━━━━━━━━━━━━\u001b[0m \u001b[32m12.1/12.1 MB\u001b[0m \u001b[31m88.7 MB/s\u001b[0m eta \u001b[36m0:00:00\u001b[0m\n",
            "\u001b[?25hCollecting fusepy<4.0.0,>=3.0.1 (from azureml-dataset-runtime[fuse,pandas]~=1.56.0->azureml-opendatasets)\n",
            "  Downloading fusepy-3.0.1.tar.gz (11 kB)\n",
            "  Preparing metadata (setup.py) ... \u001b[?25l\u001b[?25hdone\n",
            "Collecting applicationinsights (from azureml-telemetry~=1.56.0->azureml-opendatasets)\n",
            "  Downloading applicationinsights-0.11.10-py2.py3-none-any.whl (55 kB)\n",
            "\u001b[2K     \u001b[90m━━━━━━━━━━━━━━━━━━━━━━━━━━━━━━━━━━━━━━━━\u001b[0m \u001b[32m55.1/55.1 kB\u001b[0m \u001b[31m8.3 MB/s\u001b[0m eta \u001b[36m0:00:00\u001b[0m\n",
            "\u001b[?25hRequirement already satisfied: py4j==0.10.9.7 in /usr/local/lib/python3.10/dist-packages (from pyspark->azureml-opendatasets) (0.10.9.7)\n",
            "Requirement already satisfied: cryptography>=1.1.0 in /usr/local/lib/python3.10/dist-packages (from adal<=1.2.7,>=1.2.0->azureml-core~=1.56.0->azureml-opendatasets) (42.0.7)\n",
            "Requirement already satisfied: six>=1.11.0 in /usr/local/lib/python3.10/dist-packages (from azure-core<2.0.0->azureml-core~=1.56.0->azureml-opendatasets) (1.16.0)\n",
            "Requirement already satisfied: typing-extensions>=4.6.0 in /usr/local/lib/python3.10/dist-packages (from azure-core<2.0.0->azureml-core~=1.56.0->azureml-opendatasets) (4.11.0)\n",
            "Collecting isodate<1.0.0,>=0.6.1 (from azure-mgmt-authorization<5,>=0.40.0->azureml-core~=1.56.0->azureml-opendatasets)\n",
            "  Downloading isodate-0.6.1-py2.py3-none-any.whl (41 kB)\n",
            "\u001b[2K     \u001b[90m━━━━━━━━━━━━━━━━━━━━━━━━━━━━━━━━━━━━━━━━\u001b[0m \u001b[32m41.7/41.7 kB\u001b[0m \u001b[31m5.5 MB/s\u001b[0m eta \u001b[36m0:00:00\u001b[0m\n",
            "\u001b[?25hCollecting azure-mgmt-core<2.0.0,>=1.3.2 (from azure-mgmt-authorization<5,>=0.40.0->azureml-core~=1.56.0->azureml-opendatasets)\n",
            "  Downloading azure_mgmt_core-1.4.0-py3-none-any.whl (27 kB)\n",
            "Collecting azureml-dataprep-native<42.0.0,>=41.0.0 (from azureml-dataprep<5.2.0a,>=5.1.0a->azureml-dataset-runtime[fuse,pandas]~=1.56.0->azureml-opendatasets)\n",
            "  Downloading azureml_dataprep_native-41.0.0-cp310-cp310-manylinux1_x86_64.whl (187 kB)\n",
            "\u001b[2K     \u001b[90m━━━━━━━━━━━━━━━━━━━━━━━━━━━━━━━━━━━━━━━━\u001b[0m \u001b[32m187.7/187.7 kB\u001b[0m \u001b[31m27.3 MB/s\u001b[0m eta \u001b[36m0:00:00\u001b[0m\n",
            "\u001b[?25hCollecting azureml-dataprep-rslex~=2.22.2dev0 (from azureml-dataprep<5.2.0a,>=5.1.0a->azureml-dataset-runtime[fuse,pandas]~=1.56.0->azureml-opendatasets)\n",
            "  Downloading azureml_dataprep_rslex-2.22.2-cp310-cp310-manylinux_2_17_x86_64.manylinux2014_x86_64.whl (24.7 MB)\n",
            "\u001b[2K     \u001b[90m━━━━━━━━━━━━━━━━━━━━━━━━━━━━━━━━━━━━━━━━\u001b[0m \u001b[32m24.7/24.7 MB\u001b[0m \u001b[31m57.7 MB/s\u001b[0m eta \u001b[36m0:00:00\u001b[0m\n",
            "\u001b[?25hRequirement already satisfied: cloudpickle<3.0.0,>=1.1.0 in /usr/local/lib/python3.10/dist-packages (from azureml-dataprep<5.2.0a,>=5.1.0a->azureml-dataset-runtime[fuse,pandas]~=1.56.0->azureml-opendatasets) (2.2.1)\n",
            "Collecting azure-identity>=1.7.0 (from azureml-dataprep<5.2.0a,>=5.1.0a->azureml-dataset-runtime[fuse,pandas]~=1.56.0->azureml-opendatasets)\n",
            "  Downloading azure_identity-1.16.0-py3-none-any.whl (166 kB)\n",
            "\u001b[2K     \u001b[90m━━━━━━━━━━━━━━━━━━━━━━━━━━━━━━━━━━━━━━━━\u001b[0m \u001b[32m166.1/166.1 kB\u001b[0m \u001b[31m23.8 MB/s\u001b[0m eta \u001b[36m0:00:00\u001b[0m\n",
            "\u001b[?25hRequirement already satisfied: jsonschema in /usr/local/lib/python3.10/dist-packages (from azureml-dataprep<5.2.0a,>=5.1.0a->azureml-dataset-runtime[fuse,pandas]~=1.56.0->azureml-opendatasets) (4.19.2)\n",
            "Requirement already satisfied: pyyaml<7.0.0,>=5.1.0 in /usr/local/lib/python3.10/dist-packages (from azureml-dataprep<5.2.0a,>=5.1.0a->azureml-dataset-runtime[fuse,pandas]~=1.56.0->azureml-opendatasets) (6.0.1)\n",
            "Requirement already satisfied: pygments in /usr/local/lib/python3.10/dist-packages (from knack<0.12.0->azureml-core~=1.56.0->azureml-opendatasets) (2.16.1)\n",
            "Requirement already satisfied: tabulate in /usr/local/lib/python3.10/dist-packages (from knack<0.12.0->azureml-core~=1.56.0->azureml-opendatasets) (0.9.0)\n",
            "Collecting portalocker<3,>=1.0 (from msal-extensions<=2.0.0,>=0.3.0->azureml-core~=1.56.0->azureml-opendatasets)\n",
            "  Downloading portalocker-2.8.2-py3-none-any.whl (17 kB)\n",
            "Requirement already satisfied: certifi>=2017.4.17 in /usr/local/lib/python3.10/dist-packages (from msrest<=0.7.1,>=0.5.1->azureml-core~=1.56.0->azureml-opendatasets) (2024.2.2)\n",
            "Requirement already satisfied: requests-oauthlib>=0.5.0 in /usr/local/lib/python3.10/dist-packages (from msrest<=0.7.1,>=0.5.1->azureml-core~=1.56.0->azureml-opendatasets) (1.3.1)\n",
            "Requirement already satisfied: pyasn1>=0.1.1 in /usr/local/lib/python3.10/dist-packages (from ndg-httpsclient<=0.5.1->azureml-core~=1.56.0->azureml-opendatasets) (0.6.0)\n",
            "Collecting bcrypt>=3.2 (from paramiko<4.0.0,>=2.0.8->azureml-core~=1.56.0->azureml-opendatasets)\n",
            "  Downloading bcrypt-4.1.3-cp39-abi3-manylinux_2_28_x86_64.whl (283 kB)\n",
            "\u001b[2K     \u001b[90m━━━━━━━━━━━━━━━━━━━━━━━━━━━━━━━━━━━━━━━━\u001b[0m \u001b[32m283.7/283.7 kB\u001b[0m \u001b[31m25.3 MB/s\u001b[0m eta \u001b[36m0:00:00\u001b[0m\n",
            "\u001b[?25hCollecting pynacl>=1.5 (from paramiko<4.0.0,>=2.0.8->azureml-core~=1.56.0->azureml-opendatasets)\n",
            "  Downloading PyNaCl-1.5.0-cp36-abi3-manylinux_2_17_x86_64.manylinux2014_x86_64.manylinux_2_24_x86_64.whl (856 kB)\n",
            "\u001b[2K     \u001b[90m━━━━━━━━━━━━━━━━━━━━━━━━━━━━━━━━━━━━━━━━\u001b[0m \u001b[32m856.7/856.7 kB\u001b[0m \u001b[31m50.0 MB/s\u001b[0m eta \u001b[36m0:00:00\u001b[0m\n",
            "\u001b[?25hRequirement already satisfied: charset-normalizer<4,>=2 in /usr/local/lib/python3.10/dist-packages (from requests[socks]<3.0.0,>=2.19.1->azureml-core~=1.56.0->azureml-opendatasets) (3.3.2)\n",
            "Requirement already satisfied: idna<4,>=2.5 in /usr/local/lib/python3.10/dist-packages (from requests[socks]<3.0.0,>=2.19.1->azureml-core~=1.56.0->azureml-opendatasets) (3.7)\n",
            "Requirement already satisfied: PySocks!=1.5.7,>=1.5.6 in /usr/local/lib/python3.10/dist-packages (from requests[socks]<3.0.0,>=2.19.1->azureml-core~=1.56.0->azureml-opendatasets) (1.7.1)\n",
            "Collecting backports.weakref (from backports.tempfile->azureml-core~=1.56.0->azureml-opendatasets)\n",
            "  Downloading backports.weakref-1.0.post1-py2.py3-none-any.whl (5.2 kB)\n",
            "Requirement already satisfied: cffi>=1.12 in /usr/local/lib/python3.10/dist-packages (from cryptography>=1.1.0->adal<=1.2.7,>=1.2.0->azureml-core~=1.56.0->azureml-opendatasets) (1.16.0)\n",
            "Requirement already satisfied: oauthlib>=3.0.0 in /usr/local/lib/python3.10/dist-packages (from requests-oauthlib>=0.5.0->msrest<=0.7.1,>=0.5.1->azureml-core~=1.56.0->azureml-opendatasets) (3.2.2)\n",
            "Requirement already satisfied: attrs>=22.2.0 in /usr/local/lib/python3.10/dist-packages (from jsonschema->azureml-dataprep<5.2.0a,>=5.1.0a->azureml-dataset-runtime[fuse,pandas]~=1.56.0->azureml-opendatasets) (23.2.0)\n",
            "Requirement already satisfied: jsonschema-specifications>=2023.03.6 in /usr/local/lib/python3.10/dist-packages (from jsonschema->azureml-dataprep<5.2.0a,>=5.1.0a->azureml-dataset-runtime[fuse,pandas]~=1.56.0->azureml-opendatasets) (2023.12.1)\n",
            "Requirement already satisfied: referencing>=0.28.4 in /usr/local/lib/python3.10/dist-packages (from jsonschema->azureml-dataprep<5.2.0a,>=5.1.0a->azureml-dataset-runtime[fuse,pandas]~=1.56.0->azureml-opendatasets) (0.35.1)\n",
            "Requirement already satisfied: rpds-py>=0.7.1 in /usr/local/lib/python3.10/dist-packages (from jsonschema->azureml-dataprep<5.2.0a,>=5.1.0a->azureml-dataset-runtime[fuse,pandas]~=1.56.0->azureml-opendatasets) (0.18.1)\n",
            "Requirement already satisfied: pycparser in /usr/local/lib/python3.10/dist-packages (from cffi>=1.12->cryptography>=1.1.0->adal<=1.2.7,>=1.2.0->azureml-core~=1.56.0->azureml-opendatasets) (2.22)\n",
            "Building wheels for collected packages: pyspark, fusepy\n",
            "  Building wheel for pyspark (setup.py) ... \u001b[?25l\u001b[?25hdone\n",
            "  Created wheel for pyspark: filename=pyspark-3.5.1-py2.py3-none-any.whl size=317488491 sha256=d066c658f02502e01f576e0b3dfb7423bd183bda1a9f4a9285dfe8e50fec8477\n",
            "  Stored in directory: /root/.cache/pip/wheels/80/1d/60/2c256ed38dddce2fdd93be545214a63e02fbd8d74fb0b7f3a6\n",
            "  Building wheel for fusepy (setup.py) ... \u001b[?25l\u001b[?25hdone\n",
            "  Created wheel for fusepy: filename=fusepy-3.0.1-py3-none-any.whl size=10487 sha256=2cc3bd9b5678a53265c91341cea3489dfbf95bdff58e9c35ef47822910e06485\n",
            "  Stored in directory: /root/.cache/pip/wheels/c0/18/f6/f0d6be9d0435e2677ce5cc758e91da50053dce456a346f08c5\n",
            "Successfully built pyspark fusepy\n",
            "Installing collected packages: fusepy, backports.weakref, azureml-dataprep-rslex, azureml-dataprep-native, azure-common, applicationinsights, pyspark, portalocker, pkginfo, pathspec, numpy, jmespath, isodate, humanfriendly, bcrypt, backports.tempfile, argcomplete, pynacl, pandas, knack, docker, azure-core, paramiko, msrest, azure-mgmt-core, adal, ndg-httpsclient, msrestazure, msal, azure-mgmt-storage, azure-mgmt-resource, azure-mgmt-network, azure-mgmt-keyvault, azure-mgmt-containerregistry, azure-mgmt-authorization, msal-extensions, azure-graphrbac, azureml-core, azure-identity, azureml-telemetry, azureml-dataprep, azureml-dataset-runtime, azureml-opendatasets\n",
            "  Attempting uninstall: numpy\n",
            "    Found existing installation: numpy 1.25.2\n",
            "    Uninstalling numpy-1.25.2:\n",
            "      Successfully uninstalled numpy-1.25.2\n",
            "  Attempting uninstall: pandas\n",
            "    Found existing installation: pandas 2.0.3\n",
            "    Uninstalling pandas-2.0.3:\n",
            "      Successfully uninstalled pandas-2.0.3\n",
            "\u001b[31mERROR: pip's dependency resolver does not currently take into account all the packages that are installed. This behaviour is the source of the following dependency conflicts.\n",
            "chex 0.1.86 requires numpy>=1.24.1, but you have numpy 1.23.5 which is incompatible.\n",
            "cudf-cu12 24.4.1 requires pandas<2.2.2dev0,>=2.0, but you have pandas 1.5.3 which is incompatible.\n",
            "google-colab 1.0.0 requires pandas==2.0.3, but you have pandas 1.5.3 which is incompatible.\n",
            "pandas-stubs 2.0.3.230814 requires numpy>=1.25.0; python_version >= \"3.9\", but you have numpy 1.23.5 which is incompatible.\u001b[0m\u001b[31m\n",
            "\u001b[0mSuccessfully installed adal-1.2.7 applicationinsights-0.11.10 argcomplete-3.3.0 azure-common-1.1.28 azure-core-1.30.1 azure-graphrbac-0.61.1 azure-identity-1.16.0 azure-mgmt-authorization-4.0.0 azure-mgmt-containerregistry-10.3.0 azure-mgmt-core-1.4.0 azure-mgmt-keyvault-10.3.0 azure-mgmt-network-25.3.0 azure-mgmt-resource-23.1.1 azure-mgmt-storage-21.1.0 azureml-core-1.56.0 azureml-dataprep-5.1.6 azureml-dataprep-native-41.0.0 azureml-dataprep-rslex-2.22.2 azureml-dataset-runtime-1.56.0 azureml-opendatasets-1.56.0 azureml-telemetry-1.56.0 backports.tempfile-1.0 backports.weakref-1.0.post1 bcrypt-4.1.3 docker-7.0.0 fusepy-3.0.1 humanfriendly-10.0 isodate-0.6.1 jmespath-1.0.1 knack-0.11.0 msal-1.28.0 msal-extensions-1.1.0 msrest-0.7.1 msrestazure-0.6.4 ndg-httpsclient-0.5.1 numpy-1.23.5 pandas-1.5.3 paramiko-3.4.0 pathspec-0.12.1 pkginfo-1.10.0 portalocker-2.8.2 pynacl-1.5.0 pyspark-3.5.1\n"
          ]
        },
        {
          "output_type": "display_data",
          "data": {
            "application/vnd.colab-display-data+json": {
              "pip_warning": {
                "packages": [
                  "azureml",
                  "numpy",
                  "pandas"
                ]
              },
              "id": "1244226bbb804bafa6ad036a352e6cbe"
            }
          },
          "metadata": {}
        }
      ]
    },
    {
      "cell_type": "code",
      "source": [],
      "metadata": {
        "id": "hXWtDezz5Vl-"
      },
      "execution_count": null,
      "outputs": []
    }
  ]
}